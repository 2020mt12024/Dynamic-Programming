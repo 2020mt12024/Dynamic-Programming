{
 "cells": [
  {
   "cell_type": "markdown",
   "id": "134dd11e",
   "metadata": {},
   "source": [
    "# The Fibonacci Sequence is the series of numbers:\n",
    "\n",
    "# 0, 1, 1, 2, 3, 5, 8, 13, 21, 34, ..."
   ]
  },
  {
   "cell_type": "code",
   "execution_count": 1,
   "id": "a289d7dc",
   "metadata": {},
   "outputs": [],
   "source": [
    "import time\n",
    "import numpy as np"
   ]
  },
  {
   "cell_type": "markdown",
   "id": "56d3cbc7",
   "metadata": {},
   "source": [
    "# Recursion:"
   ]
  },
  {
   "cell_type": "code",
   "execution_count": 2,
   "id": "a778bfc2",
   "metadata": {},
   "outputs": [],
   "source": [
    "def Fibonacci_Recursion(n):\n",
    "    if n == 0:\n",
    "        return 0\n",
    "    elif n == 1:\n",
    "        return 1\n",
    "    else:\n",
    "        return Fibonacci_Recursion(n-1) + Fibonacci_Recursion(n-2)"
   ]
  },
  {
   "cell_type": "code",
   "execution_count": 3,
   "id": "478d1cad",
   "metadata": {},
   "outputs": [
    {
     "name": "stdout",
     "output_type": "stream",
     "text": [
      "F(36) by Recursion: 14930352\n",
      "Time Taken: 7.644543409347534\n"
     ]
    }
   ],
   "source": [
    "s = time.time()\n",
    "print(\"F(36) by Recursion: {}\".format(Fibonacci_Recursion(36)))\n",
    "e = time.time()\n",
    "print(\"Time Taken: {}\".format(e-s))"
   ]
  },
  {
   "cell_type": "markdown",
   "id": "7f8f293d",
   "metadata": {},
   "source": [
    "# Memoization"
   ]
  },
  {
   "cell_type": "code",
   "execution_count": 4,
   "id": "952aca1e",
   "metadata": {},
   "outputs": [],
   "source": [
    "def Fibonacci_Memoization(n):\n",
    "    F = np.zeros(n+1)\n",
    "    F[0] = 0\n",
    "    F[1] = 1\n",
    "    for i in range(2,n+1):\n",
    "        F[i] = F[i-1] + F [i-2]\n",
    "    return F[n]                   "
   ]
  },
  {
   "cell_type": "code",
   "execution_count": 5,
   "id": "19c3507a",
   "metadata": {},
   "outputs": [
    {
     "name": "stdout",
     "output_type": "stream",
     "text": [
      "F(36) by Memoization: 14930352.0\n",
      "Time Taken: 0.001001119613647461\n"
     ]
    }
   ],
   "source": [
    "s = time.time()\n",
    "print(\"F(36) by Memoization: {}\".format(Fibonacci_Memoization(36)))\n",
    "e = time.time()\n",
    "print(\"Time Taken: {}\".format(e-s))"
   ]
  },
  {
   "cell_type": "markdown",
   "id": "a26ea0ca",
   "metadata": {},
   "source": [
    "## Difference in Runtime Taken by both methods is clearly observed."
   ]
  }
 ],
 "metadata": {
  "kernelspec": {
   "display_name": "Python 3",
   "language": "python",
   "name": "python3"
  },
  "language_info": {
   "codemirror_mode": {
    "name": "ipython",
    "version": 3
   },
   "file_extension": ".py",
   "mimetype": "text/x-python",
   "name": "python",
   "nbconvert_exporter": "python",
   "pygments_lexer": "ipython3",
   "version": "3.8.8"
  }
 },
 "nbformat": 4,
 "nbformat_minor": 5
}
